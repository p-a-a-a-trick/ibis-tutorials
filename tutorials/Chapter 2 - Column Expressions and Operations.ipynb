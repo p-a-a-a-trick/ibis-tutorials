{
 "cells": [
  {
   "cell_type": "code",
   "execution_count": 3,
   "id": "f918f078-ae54-4164-8af8-92557b99c9b3",
   "metadata": {},
   "outputs": [],
   "source": [
    "import beaccess as bea\n",
    "conn = bea.connect()"
   ]
  },
  {
   "cell_type": "markdown",
   "id": "c8f48b34-02e8-4c8c-bd2f-b8ce680d7a80",
   "metadata": {},
   "source": [
    "# Chapter 2 - Column Expressions and Operations\n",
    "\n",
    "Column expressions are representations of columns.\n",
    "We can perform operations on column expressions to create new column expressions, and—in the next chapter—we can use column expressions to filter table expressions to get new table expressions."
   ]
  },
  {
   "cell_type": "markdown",
   "id": "44fb29dd-20f7-477b-b425-a3044b369828",
   "metadata": {},
   "source": [
    "## 2.1.0 Column Expressions\n",
    "\n",
    "The easiest way to create a column expression is by using a table expression.\n",
    "Column expressions appear as attributes to table expression and can therefore be referenced using `Table.Column` (or `getattr(Table, 'Column')`).\n",
    "Column expressions can also be obtained from table expressions using square bracket notation: `Table['column_name']`.\n",
    "\n",
    "For example, if our connection, `conn`, has a table `table_name` with column `column_name`, then we can obtain a column expression on `column_name` in `table_name` as a variable `col` via two means:\n",
    "\n",
    "```python\n",
    "table = conn.table('table_name')\n",
    "col = table.column_name\n",
    "```\n",
    "\n",
    "and\n",
    "\n",
    "```python\n",
    "table = conn.table('table_name')\n",
    "col = table['column_name']\n",
    "```\n",
    "\n",
    "My personal preference is through brackets, mostly because it's easier to handle unconventional column names (column names containing spaces)."
   ]
  },
  {
   "cell_type": "markdown",
   "id": "00aa123f-9d16-4c3e-b048-0c5b23e6d7a2",
   "metadata": {},
   "source": [
    "### 2.1.1 Exercise: Reviewing Table Expressions\n",
    "\n",
    "**Using `conn` (established at the beginning of this notebook), connect to the `'farmers'` table.\n",
    "Save the resulting table expression to a variable as `farmers`**\n",
    "\n",
    "Note: do not copy+paste from the previous chapter.\n",
    "Type it out again."
   ]
  },
  {
   "cell_type": "code",
   "execution_count": null,
   "id": "e0918667-41c6-4f9a-8684-a5feba0ac2f9",
   "metadata": {},
   "outputs": [],
   "source": []
  },
  {
   "cell_type": "markdown",
   "id": "28a93780-0211-4e95-9d5a-d1e0c9a03625",
   "metadata": {},
   "source": [
    "#### Solution\n",
    "\n",
    "<details>\n",
    "<summary>Expand to View Solution</summary>\n",
    "\n",
    "```python\n",
    "farmers = conn.table('farmers')\n",
    "```\n",
    "\n",
    "</details>"
   ]
  },
  {
   "cell_type": "markdown",
   "id": "7548a888-b617-4d1d-8305-3b5922857942",
   "metadata": {},
   "source": [
    "### 2.1.2 Exercise: Creating Column Expressions pt. 1\n",
    "\n",
    "**In the next cell, use your `farmers` table expression from 2.1.1 to create a column expression on the column `farmer_name` through attribute reference (using `.`).**"
   ]
  },
  {
   "cell_type": "code",
   "execution_count": null,
   "id": "96e0b166-9099-4b46-b485-d7af4732e025",
   "metadata": {},
   "outputs": [],
   "source": []
  },
  {
   "cell_type": "markdown",
   "id": "610da1cc-1ec3-4f6a-86a1-9b6e3e0382b9",
   "metadata": {},
   "source": [
    "#### Solution\n",
    "\n",
    "<details>\n",
    "<summary>Expand to View Solution</summary>\n",
    "\n",
    "```python\n",
    "farmers.farmer_name\n",
    "```\n",
    "\n",
    "</details>"
   ]
  },
  {
   "cell_type": "markdown",
   "id": "0385799e-f48f-4d07-b755-d60c42ec8fa7",
   "metadata": {},
   "source": [
    "### 2.1.3 Exercise: Creating Column Expressions pt. 2\n",
    "\n",
    "**In the next cell, use your `farmers` table expression from 2.1.1 to create a column expression on the column `farmer_name` through square brackets (using `['` and `']`).\n",
    "Save the resulting column expression to a variable `farmer_name`**"
   ]
  },
  {
   "cell_type": "code",
   "execution_count": null,
   "id": "7e3a1c34-64b4-4c7e-abcf-ce824eb15bf4",
   "metadata": {},
   "outputs": [],
   "source": []
  },
  {
   "cell_type": "markdown",
   "id": "c8685822-dc03-41b1-8376-7e81f0173d1d",
   "metadata": {},
   "source": [
    "#### Solution\n",
    "\n",
    "<details>\n",
    "<summary>Expand to View Solution</summary>\n",
    "\n",
    "```python\n",
    "farmer_name = farmers['farmer_name']\n",
    "```\n",
    "\n",
    "</details>"
   ]
  },
  {
   "cell_type": "code",
   "execution_count": null,
   "id": "bc5fe20f-eb0e-4ff9-b528-6f5b28ec5d10",
   "metadata": {},
   "outputs": [],
   "source": []
  }
 ],
 "metadata": {
  "kernelspec": {
   "display_name": "Python 3 (ipykernel)",
   "language": "python",
   "name": "python3"
  },
  "language_info": {
   "codemirror_mode": {
    "name": "ipython",
    "version": 3
   },
   "file_extension": ".py",
   "mimetype": "text/x-python",
   "name": "python",
   "nbconvert_exporter": "python",
   "pygments_lexer": "ipython3",
   "version": "3.8.10"
  }
 },
 "nbformat": 4,
 "nbformat_minor": 5
}
