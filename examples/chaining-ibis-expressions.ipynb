{
 "cells": [
  {
   "cell_type": "markdown",
   "id": "802506fd-de9f-4311-aa41-c0b9d19b0201",
   "metadata": {
    "tags": []
   },
   "source": [
    "# How to Chain Ibis Expressions using the Deferred Expression API (Also known as the Underscore (`_`) API)\n",
    "\n",
    "Expressions can easily be chained using the deferred expression API, also known as the Underscore (`_`) API.\n",
    "\n",
    "In this guide, we use the `_` API to concisely create column expressions and then chain table expressions.\n",
    "\n",
    "## Setup\n",
    "\n",
    "To get started, import `_` from ibis:"
   ]
  },
  {
   "cell_type": "code",
   "execution_count": 1,
   "id": "56a03ae6-a9c1-45d4-9ed9-f9d1cefe389c",
   "metadata": {
    "tags": []
   },
   "outputs": [],
   "source": [
    "import ibis\n",
    "from ibis import _\n",
    "\n",
    "import pandas as pd"
   ]
  },
  {
   "cell_type": "markdown",
   "id": "d7a9c006-c244-43d6-9b65-df2bb4897340",
   "metadata": {
    "tags": []
   },
   "source": [
    "Let's create two in-memory tables using [`ibis.memtable`](memtable-join.md), an API introduced in 3.2:"
   ]
  },
  {
   "cell_type": "code",
   "execution_count": 2,
   "id": "33597d8e-de0d-46d9-b654-0545b5bb9a89",
   "metadata": {
    "tags": []
   },
   "outputs": [],
   "source": [
    "t1 = ibis.memtable(pd.DataFrame({'x': range(5), 'y': list('ab')*2 + list('e')}))\n",
    "t2 = ibis.memtable(pd.DataFrame({'x': range(10), 'z': list(reversed(list('ab')*2 + list('e')))*2}))"
   ]
  },
  {
   "cell_type": "markdown",
   "id": "5d9f241a-00f3-46cf-8d3e-92aa828e90a5",
   "metadata": {
    "tags": []
   },
   "source": [
    "## Creating ColumnExpressions\n",
    "\n",
    "We can use `_` to create new column expressions without explicit reference to the previous table expression:\n",
    "\n",
    "We can pass a deferred expression into a function:"
   ]
  },
  {
   "cell_type": "code",
   "execution_count": 3,
   "id": "7a97a3d7-84ca-4e07-be9d-0b871e8975c1",
   "metadata": {
    "tags": []
   },
   "outputs": [],
   "source": [
    "def modf(t):\n",
    "    return t.x % 3\n",
    "    \n",
    "xmod = modf(_)"
   ]
  },
  {
   "cell_type": "markdown",
   "id": "e5a71136-ed76-4eba-8987-0b5ce4defa91",
   "metadata": {
    "tags": []
   },
   "source": [
    "We can create ColumnExprs like aggregate expressions:"
   ]
  },
  {
   "cell_type": "code",
   "execution_count": 4,
   "id": "9b0540da-1660-4791-a4d2-84883c0be501",
   "metadata": {
    "tags": []
   },
   "outputs": [],
   "source": [
    "ymax = _.y.max()\n",
    "zmax = _.z.max()\n",
    "zct = _.z.count()"
   ]
  },
  {
   "cell_type": "markdown",
   "id": "ade90fe9-1467-4a10-a163-206e92197532",
   "metadata": {
    "tags": []
   },
   "source": [
    "## Chaining Ibis Expressions\n",
    "\n",
    "We can also use it to chain Ibis expressions in one Python expression:"
   ]
  },
  {
   "cell_type": "code",
   "execution_count": 5,
   "id": "255903eb-b525-4238-b2ac-933f383101bf",
   "metadata": {
    "tags": []
   },
   "outputs": [],
   "source": [
    "join = (\n",
    "    t1\n",
    "    # _ is t1\n",
    "    .join(t2, _.x == t2.x)\n",
    "    # _ is the join result:\n",
    "    .mutate(xmod=xmod)\n",
    "    # _ is the TableExpression after mutate:\n",
    "    .group_by(_.xmod)\n",
    "    # `ct` is a ColumnExpression derived from a deferred expression:\n",
    "    .aggregate(ymax=ymax, zmax=zmax)\n",
    "    # _ is the aggregation result:\n",
    "    .filter(_.ymax == _.zmax)\n",
    "    # _ is the filtered result, and re-create xmod in t2 using modf:\n",
    "    .join(t2, _.xmod == modf(t2))\n",
    "    # _ is the second join result:\n",
    "    .join(t1, _.xmod == modf(t1), suffixes=('', '_x'))\n",
    "    # _ is the third join result:\n",
    "    .select(_.x, _.y, _.z)\n",
    "    # Finally, _ is the selection result:\n",
    "    .order_by(_.x)\n",
    ")"
   ]
  },
  {
   "cell_type": "markdown",
   "id": "b861a408-6120-4307-9eb0-d97e845eca51",
   "metadata": {},
   "source": [
    "and then execute:"
   ]
  },
  {
   "cell_type": "code",
   "execution_count": 6,
   "id": "d6960dba-cbfd-4d7b-ac7d-e95561b5744c",
   "metadata": {},
   "outputs": [
    {
     "data": {
      "text/html": [
       "<div>\n",
       "<style scoped>\n",
       "    .dataframe tbody tr th:only-of-type {\n",
       "        vertical-align: middle;\n",
       "    }\n",
       "\n",
       "    .dataframe tbody tr th {\n",
       "        vertical-align: top;\n",
       "    }\n",
       "\n",
       "    .dataframe thead th {\n",
       "        text-align: right;\n",
       "    }\n",
       "</style>\n",
       "<table border=\"1\" class=\"dataframe\">\n",
       "  <thead>\n",
       "    <tr style=\"text-align: right;\">\n",
       "      <th></th>\n",
       "      <th>x</th>\n",
       "      <th>y</th>\n",
       "      <th>z</th>\n",
       "    </tr>\n",
       "  </thead>\n",
       "  <tbody>\n",
       "    <tr>\n",
       "      <th>0</th>\n",
       "      <td>2</td>\n",
       "      <td>a</td>\n",
       "      <td>a</td>\n",
       "    </tr>\n",
       "    <tr>\n",
       "      <th>1</th>\n",
       "      <td>5</td>\n",
       "      <td>a</td>\n",
       "      <td>e</td>\n",
       "    </tr>\n",
       "    <tr>\n",
       "      <th>2</th>\n",
       "      <td>8</td>\n",
       "      <td>a</td>\n",
       "      <td>b</td>\n",
       "    </tr>\n",
       "  </tbody>\n",
       "</table>\n",
       "</div>"
      ],
      "text/plain": [
       "   x  y  z\n",
       "0  2  a  a\n",
       "1  5  a  e\n",
       "2  8  a  b"
      ]
     },
     "execution_count": 6,
     "metadata": {},
     "output_type": "execute_result"
    }
   ],
   "source": [
    "join.execute()"
   ]
  },
  {
   "cell_type": "code",
   "execution_count": null,
   "id": "91ff1498-9402-4587-b827-70216188813d",
   "metadata": {},
   "outputs": [],
   "source": []
  }
 ],
 "metadata": {
  "kernelspec": {
   "display_name": "Python 3 (ipykernel)",
   "language": "python",
   "name": "python3"
  },
  "language_info": {
   "codemirror_mode": {
    "name": "ipython",
    "version": 3
   },
   "file_extension": ".py",
   "mimetype": "text/x-python",
   "name": "python",
   "nbconvert_exporter": "python",
   "pygments_lexer": "ipython3",
   "version": "3.10.6"
  }
 },
 "nbformat": 4,
 "nbformat_minor": 5
}
