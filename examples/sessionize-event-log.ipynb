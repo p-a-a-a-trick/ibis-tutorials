{
 "cells": [
  {
   "cell_type": "markdown",
   "id": "831cd35a-97eb-47d5-a459-ef37cc74ab28",
   "metadata": {},
   "source": [
    "# Sessionize an Event Log using Ibis\n",
    "\n",
    "Guides used to create this example:\n",
    "* https://www.pola.rs/posts/the-expressions-api-in-polars-is-amazing/\n",
    "* https://knowledge.dataiku.com/latest/courses/advanced-code/python/sessionization.html"
   ]
  },
  {
   "cell_type": "markdown",
   "id": "256f0eba-6196-4b0e-8d2b-d6bafcd0a1fb",
   "metadata": {},
   "source": [
    "### Imports"
   ]
  },
  {
   "cell_type": "code",
   "execution_count": 1,
   "id": "0e4a5a5a-4682-404a-8ac2-590751f5e342",
   "metadata": {},
   "outputs": [],
   "source": [
    "# We really only need Ibis and the underscore API for this:\n",
    "import ibis\n",
    "from ibis import _ as c"
   ]
  },
  {
   "cell_type": "markdown",
   "id": "31d3f004-f204-493d-a1bc-d2c44973f319",
   "metadata": {},
   "source": [
    "### Setup\n",
    "\n",
    "Here we will point to where our data lives and set up some variables.\n",
    "\n",
    "Our data should contain at least two columns:\n",
    "* `entity_col`: a column noting an entity identifier, e.g. an event or user\n",
    "* `timestamp_col`: a column noting the timestamp for a row, e.g. an event log or a timestamp when an entity is polled\n",
    "\n",
    "In this example, we are polling all of the entities that are active on a server.\n",
    "This poll occurs on a cadence of around 10 minutes.\n",
    "\n",
    "We want to be able to estimate how long an entity is on a server without a break.\n",
    "To determine if an entity takes a break from being on the server, we check to see if it was absent from the poll results for 30 minutes (about 3 polls)."
   ]
  },
  {
   "cell_type": "markdown",
   "id": "b2d40e5c-bd73-45bd-b44d-4b0e12e6e3e2",
   "metadata": {},
   "source": [
    "#### Read our data\n",
    "\n",
    "Here we define where our data lives.\n",
    "\n",
    "`ibis.read` is a new function in 4.0 that allows users to quickly read in files as table expressions using the default backend (current is DuckDB but can be altered through `ibis.options.default_backend`).\n",
    "\n",
    "`ibis.read` accepts paths on the local machine—parquet, csv, text, and globs—and can even accept http paths (files hosted remotely on a server).\n",
    "\n",
    "You can either download the file from `https://storage.googleapis.com/ibis-tutorial-data/wowah_data/wowah_data.csv` or read the file directly using `ibis.read`'s http functionality:"
   ]
  },
  {
   "cell_type": "code",
   "execution_count": 2,
   "id": "b0ff1af4-c0fb-4970-b28f-82cc3de84c95",
   "metadata": {},
   "outputs": [],
   "source": [
    "# str path to data\n",
    "## Reading from remote using ibis.read's read_http functionality:\n",
    "path = \"https://storage.googleapis.com/ibis-tutorial-data/wowah_data/wowah_data.csv\"\n",
    "\n",
    "## It's faster to read locally though\n",
    "# path = '../../data/wowah_data.csv'\n",
    "\n",
    "# Read files into table expressions with ibis.read:\n",
    "# This function accepts kwarg from upstream functions\n",
    "# such as timestampformat to specify the timestamp format for reading timestamp columns\n",
    "data = ibis.read(path, timestampformat='%m/%d/%y %H:%M:%S')"
   ]
  },
  {
   "cell_type": "markdown",
   "id": "d1e46ee0-2b31-4a51-bcd1-99ee1f4b82ec",
   "metadata": {},
   "source": [
    "#### Additional Variables\n",
    "\n",
    "Here we're defining how our columns are labeled."
   ]
  },
  {
   "cell_type": "code",
   "execution_count": 3,
   "id": "0c5298d8-abdf-40b7-ba15-d8c6fd1c2cdf",
   "metadata": {},
   "outputs": [],
   "source": [
    "# name of a column noting an entity identifier, e.g. an event or user\n",
    "entity_col = 'char'\n",
    "# name of a column noting the timestamp for a row, e.g. when entity polled\n",
    "timestamp_col = 'timestamp'"
   ]
  },
  {
   "cell_type": "markdown",
   "id": "8d2a2298-12d4-4025-bd9c-fa137b03597a",
   "metadata": {},
   "source": [
    "And now we define what constitutes a break in seconds:"
   ]
  },
  {
   "cell_type": "code",
   "execution_count": 4,
   "id": "812ec37e-1da0-483b-b7f6-0265404df7c4",
   "metadata": {},
   "outputs": [],
   "source": [
    "# integer delay in seconds noting if a row should be included in the previous session for an entity\n",
    "session_boundary_threshold = 30 * 60"
   ]
  },
  {
   "cell_type": "markdown",
   "id": "3cbd30b8-47d3-46e1-8230-6741e10c67aa",
   "metadata": {},
   "source": [
    "### Separating Entities and Sessions\n",
    "\n",
    "We need to take our data and partition it by entity.\n",
    "After we've partitioned our data, we should order each set by timestamp so that we have a chronological log for each entity.\n",
    "\n",
    "We'll use this order of timestamps in each set to find the distance between a timestamp and its previous timestamp.\n",
    "\n",
    "We can partition our dataset using a window.\n",
    "Our window should have the following attributes:\n",
    "* `group_by` our entity since sessions should contain one and only one entity\n",
    "* `order_by` our timestamp so that our timestamps are in chronological order - for each row we want to make sure that the previous row either doesn't exist (is a new character/new session) or is the last poll result that the entity was present for\n",
    "* Don't look at rows following (`following=0`) - as we cycle through our window, we want to make sure that for each row we are looking at the cumulation of the previous rows but not the following rows.  So for each row we will only take into consideration the current row and the rows preceeding it and not aggregate rows following.\n",
    "\n",
    "We can take each row within a window and determine the timestamp for the preceeding row.\n",
    "\n",
    "A shortcut for windows with `following=0` is `ibis.cumulative_window`."
   ]
  },
  {
   "cell_type": "code",
   "execution_count": 5,
   "id": "9f015a35-2f5e-4a3e-ba3b-279338a9cead",
   "metadata": {},
   "outputs": [],
   "source": [
    "# Window for finding session ids per character\n",
    "entity_window = ibis.cumulative_window(group_by=[entity_col], order_by=[timestamp_col])"
   ]
  },
  {
   "cell_type": "markdown",
   "id": "458888c2-f34f-4d7c-a62a-260bd34df5cb",
   "metadata": {},
   "source": [
    "We can use this window to find the previous timestamp for each row:"
   ]
  },
  {
   "cell_type": "code",
   "execution_count": 6,
   "id": "ddd0c5bf-56cd-4f67-b164-5408141cb040",
   "metadata": {},
   "outputs": [],
   "source": [
    "# Take the previous timestamp within a window (by character ordered by timestamp):\n",
    "# Note: the first value in a window will be null\n",
    "ts_lag = c[timestamp_col].lag().over(entity_window)"
   ]
  },
  {
   "cell_type": "markdown",
   "id": "52ac81e6-6593-4499-a70f-d850d9d7d7d7",
   "metadata": {},
   "source": [
    "Once we have the previous timestamp for each row, we can find the delta between the current timestamp and the previous timestamp by simply subtracting them:"
   ]
  },
  {
   "cell_type": "code",
   "execution_count": 7,
   "id": "ef520032-acd8-4a48-8841-8fbb699cf9ca",
   "metadata": {},
   "outputs": [],
   "source": [
    "# Subtract the lag from the current timestamp to get a timedelta\n",
    "ts_delta = c[timestamp_col] - ts_lag"
   ]
  },
  {
   "cell_type": "markdown",
   "id": "d94a333e-8f60-4f4a-91bd-a3f9d926191d",
   "metadata": {},
   "source": [
    "This time delta can be compared to our `session_boundary_threshold` to figure out if the distance between the current row and the previous row are far enough to label the current row as the start of a new session.\n",
    "\n",
    "Our Truth Table looks like this:\n",
    "\n",
    "subtract the lag from the current timestamp to get a timedelta and then\n",
    "compare this value to our session delay in seconds to determine if the\n",
    "current timestamp falls outside of the session.\n",
    "Basically:\n",
    "* new character, new session should be True (first timestamp in char partition)\n",
    "  * Note: we will coalesce this to True since it is a new session\n",
    "* same character, new session should be True\n",
    "* same character, same session should be False\n",
    "* new character, same session should not exist since our window is partitioned by char\n",
    "\n",
    "```\n",
    "| Case                         | True/False       | Explanation                                      |\n",
    "| ============================ | ================ | ================================================ |\n",
    "| New Character, New Session   | Coalesce to True | no previous timestamp, ts_delta is null          |\n",
    "| Same Character, New Session  | True             | session_boundary_threshold > 30 min, new session |\n",
    "| Same Character, Same Session | False            | session_boundary_threshold ≤ 30 min, new session |\n",
    "| New Character, Same Session  | False            | should not happen; our window groups by entity   |\n",
    "```"
   ]
  },
  {
   "cell_type": "code",
   "execution_count": 8,
   "id": "31e27889-110d-4989-8879-0fb33bced6e0",
   "metadata": {},
   "outputs": [],
   "source": [
    "# Compare timedelta to our session delay in seconds to determine if the\n",
    "# current timestamp falls outside of the session.\n",
    "is_new_session = (ts_delta > ibis.interval(seconds=session_boundary_threshold))"
   ]
  },
  {
   "cell_type": "markdown",
   "id": "fdaa34ff-194e-4a1d-be30-8095878e6ad3",
   "metadata": {},
   "source": [
    "We will coalesce this to `True` in our final call to capture our first case."
   ]
  },
  {
   "cell_type": "markdown",
   "id": "3bcc8721-4b61-4fb0-8577-411ca58ed2bb",
   "metadata": {},
   "source": [
    "We can then take `is_new_session` and compute a rolling sum.\n",
    "\n",
    "Since new characters and same character/same sessions will be `True` after coalescing, those will be masked as 1, and all other rows will be False (0).\n",
    "\n",
    "We can then sum over our `entity_window` defined above to create this rolling sum.\n",
    "This creates, for each entity ordered by timestamp, an integer that increments with each new session.\n",
    "\n",
    "We will compute this in our final call and name it `session_id`, which will be an session identifier for a given entity.\n",
    "\n",
    "Note that this number will not be unique, but will be unique when paired with an entity."
   ]
  },
  {
   "cell_type": "markdown",
   "id": "7d3f69f0-5d90-42ea-ac97-122e843829e1",
   "metadata": {},
   "source": [
    "### Creating a window over our sessions\n",
    "\n",
    "Our last window is over our `session_id`.\n",
    "We do this so we can compute the max and min timestamp for each entity's session.\n",
    "We can take those values, find the difference, and that will be the `session_duration`.\n",
    "\n",
    "We create our window using `ibis.window` and `group_by` both `entity_col` and `session_id`:"
   ]
  },
  {
   "cell_type": "code",
   "execution_count": 11,
   "id": "1ca2f779-186e-4ee8-9598-8cee2342ff26",
   "metadata": {},
   "outputs": [],
   "source": [
    "# Window for finding session min/max\n",
    "session_window = ibis.window(group_by=[entity_col, 'session_id'])"
   ]
  },
  {
   "cell_type": "markdown",
   "id": "78038ee7-cb63-4ecf-9209-b1e30c818686",
   "metadata": {},
   "source": [
    "### Compute\n",
    "\n",
    "Finally, we will:\n",
    "1. Create a boolean column that tells us if a row marks a new session using `is_new_session`\n",
    "2. Create session ids by calculating a rolling sum on `new_session` over our `entity_window`\n",
    "3. Drop our `new_session` column since it is no longer needed\n",
    "4. Get the session duration by subtracting the `min` over our sessions from the `max` over our sessions.\n",
    "5. Finally, order by our entity and timestamp columns for convenience."
   ]
  },
  {
   "cell_type": "code",
   "execution_count": 12,
   "id": "aec09689-60f4-4b89-ad0e-48e7afba250c",
   "metadata": {},
   "outputs": [],
   "source": [
    "# Generate all of the data we need to analyze sessions:\n",
    "sessionized = (\n",
    "    data\n",
    "    # Create a session id for each character by using a cumulative sum\n",
    "    # over the `new_session` column\n",
    "    .mutate(new_session=is_new_session.fillna(True))\n",
    "    # Create a session id for each character by using a cumulative sum\n",
    "    # over the `new_session` column\n",
    "    .mutate(session_id=c.new_session.sum().over(entity_window))\n",
    "    # Drop `new_session` because it is no longer needed\n",
    "    .drop(\"new_session\")\n",
    "    .mutate(\n",
    "        # Get session duration using max(timestamp) - min(timestamp) over our window\n",
    "        session_duration=c[timestamp_col].max().over(session_window) - c[timestamp_col].min().over(session_window)\n",
    "    )\n",
    "    # Sort for convenience\n",
    "    .order_by([entity_col, timestamp_col])\n",
    ")"
   ]
  },
  {
   "cell_type": "code",
   "execution_count": 13,
   "id": "4b8e3bb5-c7b2-49ed-8cb1-7a4257b179d1",
   "metadata": {},
   "outputs": [],
   "source": [
    "result = sessionized.limit(15).execute()"
   ]
  },
  {
   "cell_type": "code",
   "execution_count": 14,
   "id": "ed8c527c-1b8f-4f98-b66a-0e6edf91364b",
   "metadata": {},
   "outputs": [
    {
     "data": {
      "text/html": [
       "<div>\n",
       "<style scoped>\n",
       "    .dataframe tbody tr th:only-of-type {\n",
       "        vertical-align: middle;\n",
       "    }\n",
       "\n",
       "    .dataframe tbody tr th {\n",
       "        vertical-align: top;\n",
       "    }\n",
       "\n",
       "    .dataframe thead th {\n",
       "        text-align: right;\n",
       "    }\n",
       "</style>\n",
       "<table border=\"1\" class=\"dataframe\">\n",
       "  <thead>\n",
       "    <tr style=\"text-align: right;\">\n",
       "      <th></th>\n",
       "      <th>char</th>\n",
       "      <th>level</th>\n",
       "      <th>race</th>\n",
       "      <th>charclass</th>\n",
       "      <th>zone</th>\n",
       "      <th>guild</th>\n",
       "      <th>timestamp</th>\n",
       "      <th>session_id</th>\n",
       "      <th>session_duration</th>\n",
       "    </tr>\n",
       "  </thead>\n",
       "  <tbody>\n",
       "    <tr>\n",
       "      <th>0</th>\n",
       "      <td>2</td>\n",
       "      <td>18</td>\n",
       "      <td>Orc</td>\n",
       "      <td>Shaman</td>\n",
       "      <td>The Barrens</td>\n",
       "      <td>6</td>\n",
       "      <td>2008-12-03 10:41:47</td>\n",
       "      <td>1</td>\n",
       "      <td>0 days 00:00:00</td>\n",
       "    </tr>\n",
       "    <tr>\n",
       "      <th>1</th>\n",
       "      <td>7</td>\n",
       "      <td>54</td>\n",
       "      <td>Orc</td>\n",
       "      <td>Hunter</td>\n",
       "      <td>Feralas</td>\n",
       "      <td>-1</td>\n",
       "      <td>2008-01-15 21:47:09</td>\n",
       "      <td>1</td>\n",
       "      <td>0 days 02:39:47</td>\n",
       "    </tr>\n",
       "    <tr>\n",
       "      <th>2</th>\n",
       "      <td>7</td>\n",
       "      <td>54</td>\n",
       "      <td>Orc</td>\n",
       "      <td>Hunter</td>\n",
       "      <td>Un'Goro Crater</td>\n",
       "      <td>-1</td>\n",
       "      <td>2008-01-15 21:56:54</td>\n",
       "      <td>1</td>\n",
       "      <td>0 days 02:39:47</td>\n",
       "    </tr>\n",
       "    <tr>\n",
       "      <th>3</th>\n",
       "      <td>7</td>\n",
       "      <td>54</td>\n",
       "      <td>Orc</td>\n",
       "      <td>Hunter</td>\n",
       "      <td>The Barrens</td>\n",
       "      <td>-1</td>\n",
       "      <td>2008-01-15 22:07:23</td>\n",
       "      <td>1</td>\n",
       "      <td>0 days 02:39:47</td>\n",
       "    </tr>\n",
       "    <tr>\n",
       "      <th>4</th>\n",
       "      <td>7</td>\n",
       "      <td>54</td>\n",
       "      <td>Orc</td>\n",
       "      <td>Hunter</td>\n",
       "      <td>Badlands</td>\n",
       "      <td>-1</td>\n",
       "      <td>2008-01-15 22:17:08</td>\n",
       "      <td>1</td>\n",
       "      <td>0 days 02:39:47</td>\n",
       "    </tr>\n",
       "    <tr>\n",
       "      <th>5</th>\n",
       "      <td>7</td>\n",
       "      <td>54</td>\n",
       "      <td>Orc</td>\n",
       "      <td>Hunter</td>\n",
       "      <td>Badlands</td>\n",
       "      <td>-1</td>\n",
       "      <td>2008-01-15 22:26:52</td>\n",
       "      <td>1</td>\n",
       "      <td>0 days 02:39:47</td>\n",
       "    </tr>\n",
       "    <tr>\n",
       "      <th>6</th>\n",
       "      <td>7</td>\n",
       "      <td>54</td>\n",
       "      <td>Orc</td>\n",
       "      <td>Hunter</td>\n",
       "      <td>Badlands</td>\n",
       "      <td>-1</td>\n",
       "      <td>2008-01-15 22:37:25</td>\n",
       "      <td>1</td>\n",
       "      <td>0 days 02:39:47</td>\n",
       "    </tr>\n",
       "    <tr>\n",
       "      <th>7</th>\n",
       "      <td>7</td>\n",
       "      <td>54</td>\n",
       "      <td>Orc</td>\n",
       "      <td>Hunter</td>\n",
       "      <td>Swamp of Sorrows</td>\n",
       "      <td>282</td>\n",
       "      <td>2008-01-15 22:47:10</td>\n",
       "      <td>1</td>\n",
       "      <td>0 days 02:39:47</td>\n",
       "    </tr>\n",
       "    <tr>\n",
       "      <th>8</th>\n",
       "      <td>7</td>\n",
       "      <td>54</td>\n",
       "      <td>Orc</td>\n",
       "      <td>Hunter</td>\n",
       "      <td>The Temple of Atal'Hakkar</td>\n",
       "      <td>282</td>\n",
       "      <td>2008-01-15 22:56:53</td>\n",
       "      <td>1</td>\n",
       "      <td>0 days 02:39:47</td>\n",
       "    </tr>\n",
       "    <tr>\n",
       "      <th>9</th>\n",
       "      <td>7</td>\n",
       "      <td>54</td>\n",
       "      <td>Orc</td>\n",
       "      <td>Hunter</td>\n",
       "      <td>The Temple of Atal'Hakkar</td>\n",
       "      <td>282</td>\n",
       "      <td>2008-01-15 23:07:25</td>\n",
       "      <td>1</td>\n",
       "      <td>0 days 02:39:47</td>\n",
       "    </tr>\n",
       "    <tr>\n",
       "      <th>10</th>\n",
       "      <td>7</td>\n",
       "      <td>54</td>\n",
       "      <td>Orc</td>\n",
       "      <td>Hunter</td>\n",
       "      <td>The Temple of Atal'Hakkar</td>\n",
       "      <td>282</td>\n",
       "      <td>2008-01-15 23:17:09</td>\n",
       "      <td>1</td>\n",
       "      <td>0 days 02:39:47</td>\n",
       "    </tr>\n",
       "    <tr>\n",
       "      <th>11</th>\n",
       "      <td>7</td>\n",
       "      <td>55</td>\n",
       "      <td>Orc</td>\n",
       "      <td>Hunter</td>\n",
       "      <td>The Temple of Atal'Hakkar</td>\n",
       "      <td>282</td>\n",
       "      <td>2008-01-15 23:26:53</td>\n",
       "      <td>1</td>\n",
       "      <td>0 days 02:39:47</td>\n",
       "    </tr>\n",
       "    <tr>\n",
       "      <th>12</th>\n",
       "      <td>7</td>\n",
       "      <td>55</td>\n",
       "      <td>Orc</td>\n",
       "      <td>Hunter</td>\n",
       "      <td>The Temple of Atal'Hakkar</td>\n",
       "      <td>282</td>\n",
       "      <td>2008-01-15 23:37:25</td>\n",
       "      <td>1</td>\n",
       "      <td>0 days 02:39:47</td>\n",
       "    </tr>\n",
       "    <tr>\n",
       "      <th>13</th>\n",
       "      <td>7</td>\n",
       "      <td>55</td>\n",
       "      <td>Orc</td>\n",
       "      <td>Hunter</td>\n",
       "      <td>The Temple of Atal'Hakkar</td>\n",
       "      <td>282</td>\n",
       "      <td>2008-01-15 23:47:09</td>\n",
       "      <td>1</td>\n",
       "      <td>0 days 02:39:47</td>\n",
       "    </tr>\n",
       "    <tr>\n",
       "      <th>14</th>\n",
       "      <td>7</td>\n",
       "      <td>55</td>\n",
       "      <td>Orc</td>\n",
       "      <td>Hunter</td>\n",
       "      <td>Orgrimmar</td>\n",
       "      <td>282</td>\n",
       "      <td>2008-01-15 23:56:52</td>\n",
       "      <td>1</td>\n",
       "      <td>0 days 02:39:47</td>\n",
       "    </tr>\n",
       "  </tbody>\n",
       "</table>\n",
       "</div>"
      ],
      "text/plain": [
       "    char  level race charclass                       zone  guild  \\\n",
       "0      2     18  Orc    Shaman                The Barrens      6   \n",
       "1      7     54  Orc    Hunter                    Feralas     -1   \n",
       "2      7     54  Orc    Hunter             Un'Goro Crater     -1   \n",
       "3      7     54  Orc    Hunter                The Barrens     -1   \n",
       "4      7     54  Orc    Hunter                   Badlands     -1   \n",
       "5      7     54  Orc    Hunter                   Badlands     -1   \n",
       "6      7     54  Orc    Hunter                   Badlands     -1   \n",
       "7      7     54  Orc    Hunter           Swamp of Sorrows    282   \n",
       "8      7     54  Orc    Hunter  The Temple of Atal'Hakkar    282   \n",
       "9      7     54  Orc    Hunter  The Temple of Atal'Hakkar    282   \n",
       "10     7     54  Orc    Hunter  The Temple of Atal'Hakkar    282   \n",
       "11     7     55  Orc    Hunter  The Temple of Atal'Hakkar    282   \n",
       "12     7     55  Orc    Hunter  The Temple of Atal'Hakkar    282   \n",
       "13     7     55  Orc    Hunter  The Temple of Atal'Hakkar    282   \n",
       "14     7     55  Orc    Hunter                  Orgrimmar    282   \n",
       "\n",
       "             timestamp  session_id session_duration  \n",
       "0  2008-12-03 10:41:47           1  0 days 00:00:00  \n",
       "1  2008-01-15 21:47:09           1  0 days 02:39:47  \n",
       "2  2008-01-15 21:56:54           1  0 days 02:39:47  \n",
       "3  2008-01-15 22:07:23           1  0 days 02:39:47  \n",
       "4  2008-01-15 22:17:08           1  0 days 02:39:47  \n",
       "5  2008-01-15 22:26:52           1  0 days 02:39:47  \n",
       "6  2008-01-15 22:37:25           1  0 days 02:39:47  \n",
       "7  2008-01-15 22:47:10           1  0 days 02:39:47  \n",
       "8  2008-01-15 22:56:53           1  0 days 02:39:47  \n",
       "9  2008-01-15 23:07:25           1  0 days 02:39:47  \n",
       "10 2008-01-15 23:17:09           1  0 days 02:39:47  \n",
       "11 2008-01-15 23:26:53           1  0 days 02:39:47  \n",
       "12 2008-01-15 23:37:25           1  0 days 02:39:47  \n",
       "13 2008-01-15 23:47:09           1  0 days 02:39:47  \n",
       "14 2008-01-15 23:56:52           1  0 days 02:39:47  "
      ]
     },
     "execution_count": 14,
     "metadata": {},
     "output_type": "execute_result"
    }
   ],
   "source": [
    "result.head(15)"
   ]
  },
  {
   "cell_type": "code",
   "execution_count": null,
   "id": "49771f86-7559-4bda-a5a6-1067a3c8b1ae",
   "metadata": {},
   "outputs": [],
   "source": []
  }
 ],
 "metadata": {
  "kernelspec": {
   "display_name": "Python 3 (ipykernel)",
   "language": "python",
   "name": "python3"
  },
  "language_info": {
   "codemirror_mode": {
    "name": "ipython",
    "version": 3
   },
   "file_extension": ".py",
   "mimetype": "text/x-python",
   "name": "python",
   "nbconvert_exporter": "python",
   "pygments_lexer": "ipython3",
   "version": "3.10.6"
  }
 },
 "nbformat": 4,
 "nbformat_minor": 5
}
